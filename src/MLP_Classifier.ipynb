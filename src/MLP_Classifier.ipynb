{
  "nbformat": 4,
  "nbformat_minor": 0,
  "metadata": {
    "colab": {
      "name": "MLP_Classifier.ipynb",
      "provenance": []
    },
    "kernelspec": {
      "name": "python3",
      "display_name": "Python 3"
    },
    "language_info": {
      "name": "python"
    }
  },
  "cells": [
    {
      "cell_type": "code",
      "metadata": {
        "id": "4FbeFmz432lm"
      },
      "source": [
        "import numpy as np\n",
        "import pandas as pd\n",
        "import matplotlib.pyplot as plt\n",
        "from sklearn.datasets import load_digits\n",
        "from sklearn.model_selection import train_test_split\n",
        "from sklearn.neural_network import MLPClassifier"
      ],
      "execution_count": 1,
      "outputs": []
    },
    {
      "cell_type": "code",
      "metadata": {
        "colab": {
          "base_uri": "https://localhost:8080/"
        },
        "id": "gGB3vxDVth6v",
        "outputId": "9671ab80-1ce2-4aaf-990f-ee19c177d183"
      },
      "source": [
        "X, y = load_digits(return_X_y=True)\n",
        "print(X.shape,y.shape)"
      ],
      "execution_count": 3,
      "outputs": [
        {
          "output_type": "stream",
          "name": "stdout",
          "text": [
            "(1797, 64) (1797,)\n"
          ]
        }
      ]
    },
    {
      "cell_type": "code",
      "metadata": {
        "colab": {
          "base_uri": "https://localhost:8080/"
        },
        "id": "ESW1zd2nvc4y",
        "outputId": "9296c9a2-b7c9-4f16-9385-0d7e209fe067"
      },
      "source": [
        "X_train, X_test, y_train, y_test = train_test_split(X, y, random_state=2)\n",
        "print(X_train.shape,y_train.shape)\n",
        "print(X_test.shape,y_test.shape)"
      ],
      "execution_count": 4,
      "outputs": [
        {
          "output_type": "stream",
          "name": "stdout",
          "text": [
            "(1347, 64) (1347,)\n",
            "(450, 64) (450,)\n"
          ]
        }
      ]
    },
    {
      "cell_type": "code",
      "metadata": {
        "colab": {
          "base_uri": "https://localhost:8080/"
        },
        "id": "T-EfdlZ-w5Sf",
        "outputId": "9a2c0f7b-14f4-46d8-8e72-21f3e49a4775"
      },
      "source": [
        "mlp = MLPClassifier(random_state=2)\n",
        "mlp.fit(X_train, y_train)"
      ],
      "execution_count": 5,
      "outputs": [
        {
          "output_type": "execute_result",
          "data": {
            "text/plain": [
              "MLPClassifier(activation='relu', alpha=0.0001, batch_size='auto', beta_1=0.9,\n",
              "              beta_2=0.999, early_stopping=False, epsilon=1e-08,\n",
              "              hidden_layer_sizes=(100,), learning_rate='constant',\n",
              "              learning_rate_init=0.001, max_fun=15000, max_iter=200,\n",
              "              momentum=0.9, n_iter_no_change=10, nesterovs_momentum=True,\n",
              "              power_t=0.5, random_state=2, shuffle=True, solver='adam',\n",
              "              tol=0.0001, validation_fraction=0.1, verbose=False,\n",
              "              warm_start=False)"
            ]
          },
          "metadata": {},
          "execution_count": 5
        }
      ]
    },
    {
      "cell_type": "code",
      "metadata": {
        "colab": {
          "base_uri": "https://localhost:8080/"
        },
        "id": "eDiVd7kBuRzr",
        "outputId": "72b9e5ed-0d07-48ec-adcf-04d99368b23d"
      },
      "source": [
        "print(mlp.score(X_test, y_test))"
      ],
      "execution_count": 6,
      "outputs": [
        {
          "output_type": "stream",
          "name": "stdout",
          "text": [
            "0.96\n"
          ]
        }
      ]
    },
    {
      "cell_type": "code",
      "metadata": {
        "id": "sKuFf-ehuWbV"
      },
      "source": [
        "y_pred = mlp.predict(X_test)"
      ],
      "execution_count": 7,
      "outputs": []
    },
    {
      "cell_type": "code",
      "metadata": {
        "id": "l11XsanUN1nm",
        "outputId": "09380df3-d4ca-41e8-846c-1ae045f28f25",
        "colab": {
          "base_uri": "https://localhost:8080/"
        }
      },
      "source": [
        "X_test[0]"
      ],
      "execution_count": 18,
      "outputs": [
        {
          "output_type": "execute_result",
          "data": {
            "text/plain": [
              "array([ 0.,  0.,  0.,  3., 16.,  3.,  0.,  0.,  0.,  0.,  0., 10., 16.,\n",
              "       11.,  0.,  0.,  0.,  0.,  4., 16., 16.,  8.,  0.,  0.,  0.,  2.,\n",
              "       14., 12., 16.,  5.,  0.,  0.,  0., 10., 16., 14., 16., 16., 11.,\n",
              "        0.,  0.,  5., 12., 13., 16.,  8.,  3.,  0.,  0.,  0.,  0.,  2.,\n",
              "       15.,  3.,  0.,  0.,  0.,  0.,  0.,  4., 12.,  0.,  0.,  0.])"
            ]
          },
          "metadata": {},
          "execution_count": 18
        }
      ]
    },
    {
      "cell_type": "markdown",
      "metadata": {
        "id": "hy2p3gsOPkQM"
      },
      "source": [
        "# Above can be interpreted as 4 if we look at non 0s.\n",
        "![Screenshot (278).png](data:image/png;base64,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)"
      ]
    },
    {
      "cell_type": "code",
      "metadata": {
        "colab": {
          "base_uri": "https://localhost:8080/"
        },
        "id": "lVmTo8kXue1x",
        "outputId": "08f9f586-92b5-4edc-bf1a-35bdcbc1ae45"
      },
      "source": [
        "for i in range(10):\n",
        "  print(\"true value:\", y_test[i], \"predicted value:\", y_pred[i])"
      ],
      "execution_count": null,
      "outputs": [
        {
          "output_type": "stream",
          "name": "stdout",
          "text": [
            "true value: 4 predicted value: 4\n",
            "true value: 0 predicted value: 0\n",
            "true value: 9 predicted value: 9\n",
            "true value: 1 predicted value: 1\n",
            "true value: 4 predicted value: 9\n",
            "true value: 7 predicted value: 7\n",
            "true value: 1 predicted value: 1\n",
            "true value: 5 predicted value: 5\n",
            "true value: 1 predicted value: 1\n",
            "true value: 6 predicted value: 6\n"
          ]
        }
      ]
    },
    {
      "cell_type": "markdown",
      "metadata": {
        "id": "EQlwv2glQbTj"
      },
      "source": [
        "## Therefore, it's predicting right values\n"
      ]
    }
  ]
}